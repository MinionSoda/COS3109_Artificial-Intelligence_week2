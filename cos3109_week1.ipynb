{
  "nbformat": 4,
  "nbformat_minor": 0,
  "metadata": {
    "colab": {
      "name": "cos3109_week1.ipynb",
      "provenance": [],
      "toc_visible": true,
      "authorship_tag": "ABX9TyMkGvy1OYynFuVDBPssriFG",
      "include_colab_link": true
    },
    "kernelspec": {
      "name": "python3",
      "display_name": "Python 3"
    },
    "language_info": {
      "name": "python"
    }
  },
  "cells": [
    {
      "cell_type": "markdown",
      "metadata": {
        "id": "view-in-github",
        "colab_type": "text"
      },
      "source": [
        "<a href=\"https://colab.research.google.com/github/MinionSoda/COS3109_Artificial-Intelligence_week1/blob/main/cos3109_week1.ipynb\" target=\"_parent\"><img src=\"https://colab.research.google.com/assets/colab-badge.svg\" alt=\"Open In Colab\"/></a>"
      ]
    },
    {
      "cell_type": "markdown",
      "source": [
        "# Intro to python"
      ],
      "metadata": {
        "id": "8yNxnUygoy4K"
      }
    },
    {
      "cell_type": "markdown",
      "source": [
        "## Hello world"
      ],
      "metadata": {
        "id": "lyM89FNSqmu1"
      }
    },
    {
      "cell_type": "code",
      "execution_count": 3,
      "metadata": {
        "colab": {
          "base_uri": "https://localhost:8080/"
        },
        "id": "bx6JpAWDhs2k",
        "outputId": "6dc5c13e-812c-436a-de93-4c9b6d46a12a"
      },
      "outputs": [
        {
          "output_type": "stream",
          "name": "stdout",
          "text": [
            "Hello World\n"
          ]
        }
      ],
      "source": [
        "# Never mind this statement, for compatibility reasons\n",
        "from __future__ import absolute_import, division, print_function, unicode_literals\n",
        "print(\"Hello World\")"
      ]
    },
    {
      "cell_type": "markdown",
      "source": [
        "## Function, Conditionals, and Iteration"
      ],
      "metadata": {
        "id": "tBt7klUSrYHm"
      }
    },
    {
      "cell_type": "markdown",
      "source": [
        "### Function and condition"
      ],
      "metadata": {
        "id": "d4Njbg192Vl6"
      }
    },
    {
      "cell_type": "code",
      "source": [
        "def HelloWorldXY(x, y):\n",
        "  if (x < 10):\n",
        "    print(\"Hello World, x was < 10\")\n",
        "  elif (x < 20):\n",
        "    print(\"Hello World, x was >= 10 but < 20\")\n",
        "  else:\n",
        "    print(\"Hello World, x was >= 20\")\n",
        "  return x + y\n",
        "\n",
        "#for i in range(8, 25, 5): # i=8, 13, 18, 23 (start, stop, step)\n",
        "  #print(\"--- Now running with i: {}\".format(i))\n",
        "  #r = HelloWorldXY(i,i)\n",
        "  #print(\"Result from HelloWorld: {}\".format(r))"
      ],
      "metadata": {
        "colab": {
          "base_uri": "https://localhost:8080/"
        },
        "id": "oNQI8sXQrQiD",
        "outputId": "999e27d4-d09b-4f2b-9113-3090bdb0be6b"
      },
      "execution_count": 20,
      "outputs": [
        {
          "output_type": "stream",
          "name": "stdout",
          "text": [
            "--- Now running with i: 8\n",
            "Hello World, x was < 10\n",
            "Result from HelloWorld: 16\n",
            "--- Now running with i: 13\n",
            "Hello World, x was >= 10 but < 20\n",
            "Result from HelloWorld: 26\n",
            "--- Now running with i: 18\n",
            "Hello World, x was >= 10 but < 20\n",
            "Result from HelloWorld: 36\n",
            "--- Now running with i: 23\n",
            "Hello World, x was >= 20\n",
            "Result from HelloWorld: 46\n"
          ]
        }
      ]
    },
    {
      "cell_type": "code",
      "source": [
        "print(HelloWorldXY(1,2))"
      ],
      "metadata": {
        "colab": {
          "base_uri": "https://localhost:8080/"
        },
        "id": "rZGODHVjsigp",
        "outputId": "36df3b6b-19f9-4065-fe8e-41001fe5472d"
      },
      "execution_count": 21,
      "outputs": [
        {
          "output_type": "stream",
          "name": "stdout",
          "text": [
            "Hello World, x was < 10\n",
            "3\n"
          ]
        }
      ]
    },
    {
      "cell_type": "markdown",
      "source": [
        "### Interation"
      ],
      "metadata": {
        "id": "I-2adOCO14ad"
      }
    },
    {
      "cell_type": "code",
      "source": [
        "for i in range(8, 25, 5): # i=8, 13, 18, 23 (start, stop, step)\n",
        "  print(\"--- Now running with i: {}\".format(i))\n",
        "  r = HelloWorldXY(i,i)\n",
        "  print(\"Result from HelloWorld: {}\".format(r))"
      ],
      "metadata": {
        "colab": {
          "base_uri": "https://localhost:8080/"
        },
        "id": "LWoignnD2xwA",
        "outputId": "e4fee9ad-addc-4a61-ce96-28e09048503b"
      },
      "execution_count": 22,
      "outputs": [
        {
          "output_type": "stream",
          "name": "stdout",
          "text": [
            "--- Now running with i: 8\n",
            "Hello World, x was < 10\n",
            "Result from HelloWorld: 16\n",
            "--- Now running with i: 13\n",
            "Hello World, x was >= 10 but < 20\n",
            "Result from HelloWorld: 26\n",
            "--- Now running with i: 18\n",
            "Hello World, x was >= 10 but < 20\n",
            "Result from HelloWorld: 36\n",
            "--- Now running with i: 23\n",
            "Hello World, x was >= 20\n",
            "Result from HelloWorld: 46\n"
          ]
        }
      ]
    },
    {
      "cell_type": "markdown",
      "source": [
        "## Various kinds of loops starting at 0 to 2\n",
        "\n"
      ],
      "metadata": {
        "id": "G69P51zJPTq-"
      }
    },
    {
      "cell_type": "code",
      "source": [
        "def HelloWorldXY(x, y):\n",
        "  if (x < 10):\n",
        "    print(\"Hello World, x was < 10\")\n",
        "  elif (x < 20):\n",
        "    print(\"Hello World, x was >= 10 but < 20\")\n",
        "  else:\n",
        "    print(\"Hello World, x was >= 20\")\n",
        "  return x + y\n",
        "\n",
        "for i in range(8, 25, 5): # i=8, 13, 18, 23 (start, stop, step)\n",
        "  print(\"--- Now running with i: {}\".format(i))\n",
        "  r = HelloWorldXY(i,i)\n",
        "  print(\"Result from HelloWorld: {}\".format(r))"
      ],
      "metadata": {
        "colab": {
          "base_uri": "https://localhost:8080/"
        },
        "id": "biMpS9MJPbT6",
        "outputId": "174fdfae-1786-4ea0-af8d-bf70449a542a"
      },
      "execution_count": 24,
      "outputs": [
        {
          "output_type": "stream",
          "name": "stdout",
          "text": [
            "--- Now running with i: 8\n",
            "Hello World, x was < 10\n",
            "Result from HelloWorld: 16\n",
            "--- Now running with i: 13\n",
            "Hello World, x was >= 10 but < 20\n",
            "Result from HelloWorld: 26\n",
            "--- Now running with i: 18\n",
            "Hello World, x was >= 10 but < 20\n",
            "Result from HelloWorld: 36\n",
            "--- Now running with i: 23\n",
            "Hello World, x was >= 20\n",
            "Result from HelloWorld: 46\n"
          ]
        }
      ]
    },
    {
      "cell_type": "code",
      "source": [
        ""
      ],
      "metadata": {
        "id": "EpS8vCzVR4bJ"
      },
      "execution_count": null,
      "outputs": []
    },
    {
      "cell_type": "markdown",
      "source": [
        "## Numpy and lists\n",
        "\n",
        "**Numpy** as np is the fundamental package for scientific computing with Python.\n",
        "\n",
        "**Lists (Array)** are data structure in Python that is a mutable, or changeable, ordered sequence of elements. Each\n",
        "element or value that is inside of a list is called an item. Just as strings are defined as characters between quotes,\n",
        "lists are defined \n",
        "by having values between \n",
        "square brackets [ ]."
      ],
      "metadata": {
        "id": "zcGGG3YURdbl"
      }
    },
    {
      "cell_type": "code",
      "source": [
        "sea_creatures = ['shark', 'cuttlefish', 'squid', 'mantis shrimp', 'anemone']"
      ],
      "metadata": {
        "id": "V1lhD9fjRg0C"
      },
      "execution_count": 25,
      "outputs": []
    },
    {
      "cell_type": "code",
      "source": [
        "print (sea_creatures)"
      ],
      "metadata": {
        "colab": {
          "base_uri": "https://localhost:8080/"
        },
        "id": "qjT9HdAqSH29",
        "outputId": "73737c4b-0b72-4253-b197-808dc4c6b9ee"
      },
      "execution_count": 28,
      "outputs": [
        {
          "output_type": "stream",
          "name": "stdout",
          "text": [
            "['shark', 'cuttlefish', 'squid', 'mantis shrimp', 'anemone']\n"
          ]
        }
      ]
    },
    {
      "cell_type": "code",
      "source": [
        "sea_creatures[0] = 'shark'\n",
        "sea_creatures[2] = 'squid'\n",
        "sea_creatures[4] = 'anemone'"
      ],
      "metadata": {
        "id": "FTyRibbhR2Eu"
      },
      "execution_count": 26,
      "outputs": []
    },
    {
      "cell_type": "code",
      "source": [
        "print (sea_creatures) "
      ],
      "metadata": {
        "colab": {
          "base_uri": "https://localhost:8080/"
        },
        "id": "NV9Us7VnSTdW",
        "outputId": "94f85ee2-4bbc-490e-dad7-238bbcd0b8b6"
      },
      "execution_count": 29,
      "outputs": [
        {
          "output_type": "stream",
          "name": "stdout",
          "text": [
            "['shark', 'cuttlefish', 'squid', 'mantis shrimp', 'anemone']\n"
          ]
        }
      ]
    },
    {
      "cell_type": "code",
      "source": [
        "import numpy as np # Make numpy available using np.\n",
        "# Create a numpy array, and append an element\n",
        "a = np.array([\"Hello\", \"World\"])\n",
        "a = np.append(a, \"!\")\n",
        "print(\"Current array: {}\".format(a))\n",
        "print(\"Printing each element\")\n",
        "for i in a:\n",
        "  print(i)\n",
        "  print(\"\\nPrinting each element and their index\")\n",
        "for i,e in enumerate(a):\n",
        "  print(\"Index: {}, was: {}\".format(i, e))\n",
        "  print(\"\\nShowing some basic math on arrays\")\n",
        "  b = np.array([0,1,4,3,2])\n",
        "  print(\"Max: {}\".format(np.max(b)))\n",
        "  print(\"Average: {}\".format(np.average(b)))\n",
        "  print(\"Max index: {}\".format(np.argmax(b)))\n",
        "  \n",
        "print(\"\\nYou can print the type of anything\")\n",
        "print(\"Type of b: {}, type of b[0]: {}\".format(type(b), type(b[0])))\n",
        "print(\"\\nUse numpy to create a [3,3] dimension array with random number\")\n",
        "c = np.random.rand(3, 3)\n",
        "print(c)\n",
        "\n",
        "print(\"\\nShowing some basic math on arrays\")\n",
        "b = np.array([0,1,4,3,2])\n",
        "print(\"Max: {}\".format(np.max(b)))\n",
        "print(\"Average: {}\".format(np.average(b)))\n",
        "print(\"Max index: {}\".format(np.argmax(b)))\n",
        "\n",
        "print(\"\\nYou can print the dimensions of arrays\")\n",
        "print(\"Shape of a: {}\".format(a.shape))\n",
        "print(\"Shape of b: {}\".format(b.shape))\n",
        "print(\"Shape of c: {}\".format(c.shape))"
      ],
      "metadata": {
        "colab": {
          "base_uri": "https://localhost:8080/"
        },
        "id": "JiVcp3JAStUW",
        "outputId": "1fdc1dea-c9af-4617-eea1-ec1187320568"
      },
      "execution_count": 7,
      "outputs": [
        {
          "output_type": "stream",
          "name": "stdout",
          "text": [
            "Current array: ['Hello' 'World' '!']\n",
            "Printing each element\n",
            "Hello\n",
            "\n",
            "Printing each element and their index\n",
            "World\n",
            "\n",
            "Printing each element and their index\n",
            "!\n",
            "\n",
            "Printing each element and their index\n",
            "Index: 0, was: Hello\n",
            "\n",
            "Showing some basic math on arrays\n",
            "Max: 4\n",
            "Average: 2.0\n",
            "Max index: 2\n",
            "Index: 1, was: World\n",
            "\n",
            "Showing some basic math on arrays\n",
            "Max: 4\n",
            "Average: 2.0\n",
            "Max index: 2\n",
            "Index: 2, was: !\n",
            "\n",
            "Showing some basic math on arrays\n",
            "Max: 4\n",
            "Average: 2.0\n",
            "Max index: 2\n",
            "\n",
            "You can print the type of anything\n",
            "Type of b: <class 'numpy.ndarray'>, type of b[0]: <class 'numpy.int64'>\n",
            "\n",
            "Use numpy to create a [3,3] dimension array with random number\n",
            "[[0.06971806 0.90740628 0.40786617]\n",
            " [0.49492411 0.04925953 0.8679222 ]\n",
            " [0.47466469 0.3059248  0.08671531]]\n",
            "\n",
            "Showing some basic math on arrays\n",
            "Max: 4\n",
            "Average: 2.0\n",
            "Max index: 2\n",
            "\n",
            "You can print the dimensions of arrays\n",
            "Shape of a: (3,)\n",
            "Shape of b: (5,)\n",
            "Shape of c: (3, 3)\n"
          ]
        }
      ]
    },
    {
      "cell_type": "markdown",
      "source": [
        "## Colab Specifics: to run commands at the VM’s terminal, prefix the line with an exclamation point (!)"
      ],
      "metadata": {
        "id": "40MDUan3yu3Y"
      }
    },
    {
      "cell_type": "code",
      "source": [
        "print(\"\\nDoing $ls on filesystem\") \n",
        "!ls -l \n",
        "!pwd \n"
      ],
      "metadata": {
        "colab": {
          "base_uri": "https://localhost:8080/"
        },
        "id": "VZXvk_FtwqrR",
        "outputId": "7a45585d-d3dd-4f3d-bbe0-4ab7c2507850"
      },
      "execution_count": 8,
      "outputs": [
        {
          "output_type": "stream",
          "name": "stdout",
          "text": [
            "\n",
            "Doing $ls on filesystem\n",
            "total 4\n",
            "drwxr-xr-x 1 root root 4096 Jul 13 13:43 sample_data\n",
            "/content\n"
          ]
        }
      ]
    }
  ]
}