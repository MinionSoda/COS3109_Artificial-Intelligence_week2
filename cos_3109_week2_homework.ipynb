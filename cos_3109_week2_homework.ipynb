{
  "nbformat": 4,
  "nbformat_minor": 0,
  "metadata": {
    "colab": {
      "name": "cos 3109_week2_homework.ipynb",
      "provenance": [],
      "toc_visible": true,
      "authorship_tag": "ABX9TyMNiMX/KpeNsXuK3Gd8Lq7m",
      "include_colab_link": true
    },
    "kernelspec": {
      "name": "python3",
      "display_name": "Python 3"
    },
    "language_info": {
      "name": "python"
    }
  },
  "cells": [
    {
      "cell_type": "markdown",
      "metadata": {
        "id": "view-in-github",
        "colab_type": "text"
      },
      "source": [
        "<a href=\"https://colab.research.google.com/github/MinionSoda/COS3109_Artificial-Intelligence_week1/blob/main/cos_3109_week2_homework.ipynb\" target=\"_parent\"><img src=\"https://colab.research.google.com/assets/colab-badge.svg\" alt=\"Open In Colab\"/></a>"
      ]
    },
    {
      "cell_type": "markdown",
      "source": [
        "# Exercise"
      ],
      "metadata": {
        "id": "10oSiD3Fzv2E"
      }
    },
    {
      "cell_type": "markdown",
      "source": [
        "## 1. Colab: Create a code cell underneath this text cell and add code to: \n",
        "- List the path of the current directory (pwd) \n",
        "- Go to / (cd) and list the content (ls-l)  "
      ],
      "metadata": {
        "id": "SyI8qoyd0ah0"
      }
    },
    {
      "cell_type": "code",
      "source": [
        "!pwd\n",
        "!cd #/<location>\n",
        "!ls -l "
      ],
      "metadata": {
        "colab": {
          "base_uri": "https://localhost:8080/"
        },
        "id": "Qpd6EzCsz6wR",
        "outputId": "a37d7ca9-cc3a-4b02-b87d-318e61b86f91"
      },
      "execution_count": 41,
      "outputs": [
        {
          "output_type": "stream",
          "name": "stdout",
          "text": [
            "/content\n",
            "total 4\n",
            "drwxr-xr-x 1 root root 4096 Jul 13 13:43 sample_data\n"
          ]
        }
      ]
    },
    {
      "cell_type": "markdown",
      "source": [
        "## 2. Python lists without Numpy: Print the second item in the fruits list:  fruits = [\"apple\", \"banana\", \"cherry\"] \n"
      ],
      "metadata": {
        "id": "TxONFBLI1XxT"
      }
    },
    {
      "cell_type": "code",
      "source": [
        "fruits = [\"apple\", \"banana\", \"cherry\"]\n",
        "print (fruits[1])"
      ],
      "metadata": {
        "colab": {
          "base_uri": "https://localhost:8080/"
        },
        "id": "O77xK4XZ1bHF",
        "outputId": "a685eb2f-da62-46d5-8481-6fbac00c072d"
      },
      "execution_count": 42,
      "outputs": [
        {
          "output_type": "stream",
          "name": "stdout",
          "text": [
            "banana\n"
          ]
        }
      ]
    },
    {
      "cell_type": "markdown",
      "source": [
        "## 3. Change the value from “apple” to “kiwi”, in the fruits list:  "
      ],
      "metadata": {
        "id": "lQwVaap61yTy"
      }
    },
    {
      "cell_type": "code",
      "source": [
        "fruits[0] = \"kiwi\"\n",
        "print (fruits)"
      ],
      "metadata": {
        "colab": {
          "base_uri": "https://localhost:8080/"
        },
        "id": "ku56aIgt1z4l",
        "outputId": "c41ad362-ce56-47e9-fb4e-1f5ad75ff83f"
      },
      "execution_count": 43,
      "outputs": [
        {
          "output_type": "stream",
          "name": "stdout",
          "text": [
            "['kiwi', 'banana', 'cherry']\n"
          ]
        }
      ]
    },
    {
      "cell_type": "markdown",
      "source": [
        "## 4. Use the append method to add “orange” to the fruits list: "
      ],
      "metadata": {
        "id": "GJGEVkgT2bQ9"
      }
    },
    {
      "cell_type": "code",
      "source": [
        "fruits.append(\"orange\")\n",
        "print (fruits)"
      ],
      "metadata": {
        "colab": {
          "base_uri": "https://localhost:8080/"
        },
        "id": "7RFAX13W2eba",
        "outputId": "09311009-d6d0-4db2-f8ea-edddceaeba61"
      },
      "execution_count": 44,
      "outputs": [
        {
          "output_type": "stream",
          "name": "stdout",
          "text": [
            "['kiwi', 'banana', 'cherry', 'orange']\n"
          ]
        }
      ]
    },
    {
      "cell_type": "markdown",
      "source": [
        "## 5. Use the insert method to add “lemon” as the second item in the fruits list: "
      ],
      "metadata": {
        "id": "d0IpQPjC3KEn"
      }
    },
    {
      "cell_type": "code",
      "source": [
        "fruits.insert(1,\"lemon\")\n",
        "print (fruits)"
      ],
      "metadata": {
        "colab": {
          "base_uri": "https://localhost:8080/"
        },
        "id": "oYqUFB-X3PYi",
        "outputId": "408c8796-66bc-4cf7-eec5-bdfb8bb3acc1"
      },
      "execution_count": 45,
      "outputs": [
        {
          "output_type": "stream",
          "name": "stdout",
          "text": [
            "['kiwi', 'lemon', 'banana', 'cherry', 'orange']\n"
          ]
        }
      ]
    },
    {
      "cell_type": "markdown",
      "source": [
        "## 6. Use the remove method to delete “banana” from the fruits list: \n"
      ],
      "metadata": {
        "id": "SH0F-RunBZb5"
      }
    },
    {
      "cell_type": "code",
      "source": [
        "fruits.remove(\"banana\")\n",
        "print (fruits)"
      ],
      "metadata": {
        "colab": {
          "base_uri": "https://localhost:8080/"
        },
        "id": "sj_dnSO1BcIw",
        "outputId": "6e7d2c8a-f1ae-4606-b602-8c102b3e9b5f"
      },
      "execution_count": 46,
      "outputs": [
        {
          "output_type": "stream",
          "name": "stdout",
          "text": [
            "['kiwi', 'lemon', 'cherry', 'orange']\n"
          ]
        }
      ]
    },
    {
      "cell_type": "markdown",
      "source": [
        "## 7.Python If…Else: Print “Hello World” if a is greater than b:  \n",
        "a = 50 c = 20 \n",
        " b = 10 d = 20 "
      ],
      "metadata": {
        "id": "ENTFlRLiCTP0"
      }
    },
    {
      "cell_type": "code",
      "source": [
        "a = 50\n",
        "c = 20\n",
        "b = 10\n",
        "d = 20\n",
        "\n",
        "if (a > b):\n",
        "  print (\"Hello World\")"
      ],
      "metadata": {
        "colab": {
          "base_uri": "https://localhost:8080/"
        },
        "id": "hWT09ElMCdTh",
        "outputId": "31b5939e-3206-4d78-a28c-642206a68335"
      },
      "execution_count": 51,
      "outputs": [
        {
          "output_type": "stream",
          "name": "stdout",
          "text": [
            "Hello World\n"
          ]
        }
      ]
    },
    {
      "cell_type": "markdown",
      "source": [
        "## 8. Print “Hello World” if a is not equal to b: "
      ],
      "metadata": {
        "id": "KBtHvjEbDGp7"
      }
    },
    {
      "cell_type": "code",
      "source": [
        "if (a != b):\n",
        "  print (\"Hello World\")"
      ],
      "metadata": {
        "colab": {
          "base_uri": "https://localhost:8080/"
        },
        "id": "mm0HYJGCD12k",
        "outputId": "848fd838-e292-4e8b-ec5c-fbd2eb04b23a"
      },
      "execution_count": 53,
      "outputs": [
        {
          "output_type": "stream",
          "name": "stdout",
          "text": [
            "Hello World\n"
          ]
        }
      ]
    },
    {
      "cell_type": "markdown",
      "source": [
        "## 9. Print “Yes” if a is equal to b, otherwise print “No”: "
      ],
      "metadata": {
        "id": "zEsbH7xSEL5y"
      }
    },
    {
      "cell_type": "code",
      "source": [
        "if (a == b):\n",
        "  print (\"yes\")\n",
        "else:\n",
        "  print (\"No\")"
      ],
      "metadata": {
        "colab": {
          "base_uri": "https://localhost:8080/"
        },
        "id": "KiRlvNPaEMox",
        "outputId": "41647af1-1012-46f7-b7bf-5219ca577df2"
      },
      "execution_count": 60,
      "outputs": [
        {
          "output_type": "stream",
          "name": "stdout",
          "text": [
            "No\n"
          ]
        }
      ]
    },
    {
      "cell_type": "markdown",
      "source": [
        "## 10. Print “1” if a is equal to b, print “2” if a is greater than b, otherwise print “3”: "
      ],
      "metadata": {
        "id": "H6OsRHROErfC"
      }
    },
    {
      "cell_type": "code",
      "source": [
        "if (a == b):\n",
        "  print (\"1\")\n",
        "elif (a > b):\n",
        "  print (\"2\")\n",
        "else:\n",
        "  print (\"3\")"
      ],
      "metadata": {
        "colab": {
          "base_uri": "https://localhost:8080/"
        },
        "id": "1kCoI8YsEwUp",
        "outputId": "b6db8363-887b-4842-9245-a55b361a86ec"
      },
      "execution_count": 61,
      "outputs": [
        {
          "output_type": "stream",
          "name": "stdout",
          "text": [
            "2\n"
          ]
        }
      ]
    },
    {
      "cell_type": "markdown",
      "source": [
        "## 11. Print “Hello” if a is equal to b, and c is equal to d:  \n"
      ],
      "metadata": {
        "id": "QREQUnF8F7xz"
      }
    },
    {
      "cell_type": "code",
      "source": [
        "if (a == b and c == d):\n",
        "  print (Hello)"
      ],
      "metadata": {
        "id": "KoW0adXXJO8Z"
      },
      "execution_count": 63,
      "outputs": []
    },
    {
      "cell_type": "markdown",
      "source": [
        "13. Python Loops: Print i as long as i is less than 6: \n"
      ],
      "metadata": {
        "id": "kCO2Z1ASJlRI"
      }
    },
    {
      "cell_type": "code",
      "source": [
        "i = 1\n",
        "while i < 6:\n",
        "  print(i)\n",
        "  i = i + 1"
      ],
      "metadata": {
        "colab": {
          "base_uri": "https://localhost:8080/",
          "height": 135
        },
        "id": "IYYF55TCJoj3",
        "outputId": "7decf3b3-8c1c-4362-84df-169a010476ba"
      },
      "execution_count": 68,
      "outputs": [
        {
          "output_type": "error",
          "ename": "IndentationError",
          "evalue": "ignored",
          "traceback": [
            "\u001b[0;36m  File \u001b[0;32m\"<ipython-input-68-5bb50115d24d>\"\u001b[0;36m, line \u001b[0;32m6\u001b[0m\n\u001b[0;31m    i = i + 1\u001b[0m\n\u001b[0m             ^\u001b[0m\n\u001b[0;31mIndentationError\u001b[0m\u001b[0;31m:\u001b[0m unindent does not match any outer indentation level\n"
          ]
        }
      ]
    },
    {
      "cell_type": "markdown",
      "source": [
        "## 14. From #13 stop the loop if i is 3:  \n"
      ],
      "metadata": {
        "id": "kig7PriqUgBk"
      }
    },
    {
      "cell_type": "code",
      "source": [
        "i = 1\n",
        "while i < 6:\n",
        "  print(i)\n",
        "  if i == 3:\n",
        "    break\n",
        "  i = i + 1\n"
      ],
      "metadata": {
        "colab": {
          "base_uri": "https://localhost:8080/"
        },
        "id": "faf-hw6CUnIS",
        "outputId": "9122a7be-b74e-4967-d450-c718f1fceebb"
      },
      "execution_count": 69,
      "outputs": [
        {
          "output_type": "stream",
          "name": "stdout",
          "text": [
            "1\n",
            "2\n",
            "3\n"
          ]
        }
      ]
    }
  ]
}